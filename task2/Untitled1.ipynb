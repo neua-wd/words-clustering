{
 "cells": [
  {
   "cell_type": "code",
   "execution_count": 1,
   "id": "representative-crest",
   "metadata": {},
   "outputs": [],
   "source": [
    "import numpy as np\n",
    "import nltk\n",
    "from numba import jit, njit\n",
    "from nltk.cluster import KMeansClusterer, euclidean_distance, cosine_distance\n",
    "from nltk.corpus import brown\n",
    "import multiprocessing\n",
    "\n",
    "from DocumentBasedVectorizer import DocumentBasedVectorizer\n",
    "from ContextBasedVectorizer import ContextBasedVectorizer"
   ]
  },
  {
   "cell_type": "code",
   "execution_count": 2,
   "id": "rental-conversion",
   "metadata": {},
   "outputs": [],
   "source": [
    "target_words = ['abstraction', 'actually', 'add', 'address', 'answer',\n",
    "                'argument', 'arguments', 'back', 'call', 'car', 'case',\n",
    "                'cdr', 'computer', 'course', 'dictionary', 'different',\n",
    "                'evaluator', 'function', 'general', 'got', 'idea', 'kind',\n",
    "                'lambda', 'machine', 'mean', 'object', 'operator', 'order',\n",
    "                'pair', 'part', 'particular', 'pattern', 'place', 'problem',\n",
    "                'process', 'product', 'program', 'reason', 'register',\n",
    "                'result', 'set', 'simple', 'structure', 'system', 'they',\n",
    "                'together', 'using', 'variable', 'why', 'zero']\n",
    "\n",
    "tagged_target_words = nltk.pos_tag(target_words)"
   ]
  },
  {
   "cell_type": "code",
   "execution_count": null,
   "id": "competitive-vegetation",
   "metadata": {},
   "outputs": [],
   "source": [
    "[brown.words()[i:i + 10] for i in range(len(brown.words()) - 10 + 1)]"
   ]
  },
  {
   "cell_type": "code",
   "execution_count": 4,
   "id": "brave-nurse",
   "metadata": {},
   "outputs": [],
   "source": []
  },
  {
   "cell_type": "code",
   "execution_count": 5,
   "id": "political-aging",
   "metadata": {},
   "outputs": [],
   "source": []
  },
  {
   "cell_type": "code",
   "execution_count": null,
   "id": "spiritual-sapphire",
   "metadata": {},
   "outputs": [],
   "source": []
  }
 ],
 "metadata": {
  "kernelspec": {
   "display_name": "Python 3",
   "language": "python",
   "name": "python3"
  },
  "language_info": {
   "codemirror_mode": {
    "name": "ipython",
    "version": 3
   },
   "file_extension": ".py",
   "mimetype": "text/x-python",
   "name": "python",
   "nbconvert_exporter": "python",
   "pygments_lexer": "ipython3",
   "version": "3.8.2"
  }
 },
 "nbformat": 4,
 "nbformat_minor": 5
}
